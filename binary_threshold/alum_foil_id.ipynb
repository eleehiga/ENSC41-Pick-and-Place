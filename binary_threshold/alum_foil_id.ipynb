{
 "cells": [
  {
   "cell_type": "code",
   "execution_count": 37,
   "id": "00966917",
   "metadata": {},
   "outputs": [],
   "source": [
    "import os\n",
    "import sys\n",
    "#os.environ[\"OPENCV_IO_MAX_IMAGE_PIXELS\"] = pow(2,50).__str__()\n",
    "import cv2 as cv\n",
    "import numpy as np\n",
    "from PIL import Image\n",
    "from matplotlib import pyplot as plt"
   ]
  },
  {
   "cell_type": "code",
   "execution_count": 60,
   "id": "0a6a5ab6",
   "metadata": {},
   "outputs": [],
   "source": [
    "def identify_alum(filename):\n",
    "    img = cv2.imread(filename, cv2.IMREAD_UNCHANGED)\n",
    "\n",
    "    # convert to hsv and get saturation channel\n",
    "    sat = cv2.cvtColor(img, cv2.COLOR_RGB2HSV)[:,:,1]\n",
    "\n",
    "    # do a little Gaussian filtering\n",
    "    blur = cv2.GaussianBlur(sat, (3,3), 0)\n",
    "    #(3,3) is the Gaussian kernel, \n",
    "    # blurring the image mitigates noise\n",
    "\n",
    "    # threshold and invert to create initial mask\n",
    "    mask = 255 - cv2.threshold(blur, 15, 255, cv2.THRESH_BINARY)[1]\n",
    "    # 100 is threshold val, 255 is maxval, THRESH_Bin is thresholding type\n",
    "    # if >100 then set image's pixel to max, else set to 0\n",
    "\n",
    "    # apply morphology close to fill interior regions in mask\n",
    "    #kernel = np.ones((15,15), np.uint8)\n",
    "    #mask = cv2.morphologyEx(mask, cv2.MORPH_CLOSE, kernel)\n",
    "    # remove morphology as for now not worry about filling regions\n",
    "    \n",
    "    '''\n",
    "    # get outer contours from inverted mask and get the largest (presumably only one due to morphology filtering)\n",
    "    #cntrs = cv2.findContours(mask, cv2.RETR_EXTERNAL, cv2.CHAIN_APPROX_SIMPLE)\n",
    "    cntrs = cv2.findContours(mask, cv2.RETR_EXTERNAL, cv2.CHAIN_APPROX_SIMPLE)\n",
    "    # cv2 approx_simple will approximate only 4 points\n",
    "    cntrs = cntrs[0] if len(cntrs) == 2 else cntrs[1]\n",
    "    result = img.copy()\n",
    "    area_thresh = 0\n",
    "    for c in cntrs:\n",
    "        area = cv2.contourArea(c)\n",
    "        if area > area_thresh:\n",
    "            area = area_thresh\n",
    "            big_contour = c\n",
    "\n",
    "    # draw largest contour\n",
    "    cv2.drawContours(result, [big_contour], -1, (0,0,255), 2)\n",
    "    '''\n",
    "    result = img.copy()\n",
    "    contours, hierarchy = cv.findContours(mask, cv.RETR_TREE, cv.CHAIN_APPROX_SIMPLE)\n",
    "    cnt = contours[4]\n",
    "    cv.drawContours(result, [cnt], 0, (0,255,0), 3)\n",
    "\n",
    "    # write result to disk\n",
    "    #cv2.imwrite(\"shiny_mask.png\", mask)\n",
    "    #cv2.imwrite(\"shiny_outline.png\", result)\n",
    "\n",
    "    # display it\n",
    "    #cv2.imshow(\"IMAGE\", img)\n",
    "    #cv2.imshow(\"MASK\", mask)\n",
    "    #cv2.imshow(\"RESULT\", result)\n",
    "    cv2.waitKey(0)\n",
    "    plt.imshow(img)\n",
    "    plt.show()\n",
    "    plt.imshow(mask)\n",
    "    plt.show()\n",
    "    plt.imshow(result)\n",
    "    plt.show()"
   ]
  },
  {
   "cell_type": "code",
   "execution_count": 79,
   "id": "e82a1ca5",
   "metadata": {},
   "outputs": [],
   "source": [
    "def identify_alum2(filename):\n",
    "    im = cv.imread(filename)\n",
    "    imgray = cv.cvtColor(im, cv.COLOR_BGR2GRAY)\n",
    "    #sat = cv.cvtColor(im, cv.COLOR_RGB2HSV)[:,:,1]\n",
    "    blur = cv.GaussianBlur(imgray, (5,5), 0)\n",
    "    #ret, thresh = cv.threshold(imgray, thresh=170, maxval=255, type=0)\n",
    "    ret, thresh = cv.threshold(blur, thresh=170, maxval=255, type=cv.THRESH_BINARY)\n",
    "    contours, hierarchy = cv.findContours(thresh, cv.RETR_TREE, cv.CHAIN_APPROX_SIMPLE)\n",
    "    #cv.drawContours(im, contours, -1, (0,255,0), 3)\n",
    "    \n",
    "    rects = []\n",
    "    areas = []\n",
    "    for cnt in contours:\n",
    "            rect = cv.boundingRect(cnt)\n",
    "            rects.append(rect)\n",
    "            areas.append(rect[2]*rect[3])\n",
    "    i_max_area = areas.index(max(areas))\n",
    "    print(rects[i_max_area])\n",
    "    box = cv.boxPoints(rects[i_max_area])\n",
    "    box = np.int0(box)\n",
    "    cv.drawContours(im, [box], -1, (0,255,0), 3)\n",
    "    plt.imshow(im)\n",
    "    plt.show()\n",
    "    plt.imshow(thresh)\n",
    "    plt.show()"
   ]
  },
  {
   "cell_type": "code",
   "execution_count": 80,
   "id": "62a05b5c",
   "metadata": {
    "scrolled": true
   },
   "outputs": [
    {
     "name": "stdout",
     "output_type": "stream",
     "text": [
      "(367, 280, 307, 983)\n"
     ]
    },
    {
     "ename": "error",
     "evalue": "OpenCV(4.6.0) :-1: error: (-5:Bad argument) in function 'boxPoints'\n> Overload resolution failed:\n>  - Can't parse 'box' as RotatedRect. Expected sequence length 3, got 4\n>  - Can't parse 'box' as RotatedRect. Expected sequence length 3, got 4\n",
     "output_type": "error",
     "traceback": [
      "\u001b[1;31m---------------------------------------------------------------------------\u001b[0m",
      "\u001b[1;31merror\u001b[0m                                     Traceback (most recent call last)",
      "\u001b[1;32m~\\AppData\\Local\\Temp/ipykernel_22636/180077622.py\u001b[0m in \u001b[0;36m<module>\u001b[1;34m\u001b[0m\n\u001b[0;32m      1\u001b[0m \u001b[1;31m#identify_alum('Straight_On.png')\u001b[0m\u001b[1;33m\u001b[0m\u001b[1;33m\u001b[0m\u001b[0m\n\u001b[1;32m----> 2\u001b[1;33m \u001b[0midentify_alum2\u001b[0m\u001b[1;33m(\u001b[0m\u001b[1;34m'SmallPieceWithFlash.jpeg'\u001b[0m\u001b[1;33m)\u001b[0m\u001b[1;33m\u001b[0m\u001b[1;33m\u001b[0m\u001b[0m\n\u001b[0m",
      "\u001b[1;32m~\\AppData\\Local\\Temp/ipykernel_22636/883882121.py\u001b[0m in \u001b[0;36midentify_alum2\u001b[1;34m(filename)\u001b[0m\n\u001b[0;32m     17\u001b[0m     \u001b[0mi_max_area\u001b[0m \u001b[1;33m=\u001b[0m \u001b[0mareas\u001b[0m\u001b[1;33m.\u001b[0m\u001b[0mindex\u001b[0m\u001b[1;33m(\u001b[0m\u001b[0mmax\u001b[0m\u001b[1;33m(\u001b[0m\u001b[0mareas\u001b[0m\u001b[1;33m)\u001b[0m\u001b[1;33m)\u001b[0m\u001b[1;33m\u001b[0m\u001b[1;33m\u001b[0m\u001b[0m\n\u001b[0;32m     18\u001b[0m     \u001b[0mprint\u001b[0m\u001b[1;33m(\u001b[0m\u001b[0mrects\u001b[0m\u001b[1;33m[\u001b[0m\u001b[0mi_max_area\u001b[0m\u001b[1;33m]\u001b[0m\u001b[1;33m)\u001b[0m\u001b[1;33m\u001b[0m\u001b[1;33m\u001b[0m\u001b[0m\n\u001b[1;32m---> 19\u001b[1;33m     \u001b[0mbox\u001b[0m \u001b[1;33m=\u001b[0m \u001b[0mcv\u001b[0m\u001b[1;33m.\u001b[0m\u001b[0mboxPoints\u001b[0m\u001b[1;33m(\u001b[0m\u001b[0mrects\u001b[0m\u001b[1;33m[\u001b[0m\u001b[0mi_max_area\u001b[0m\u001b[1;33m]\u001b[0m\u001b[1;33m)\u001b[0m\u001b[1;33m\u001b[0m\u001b[1;33m\u001b[0m\u001b[0m\n\u001b[0m\u001b[0;32m     20\u001b[0m     \u001b[0mbox\u001b[0m \u001b[1;33m=\u001b[0m \u001b[0mnp\u001b[0m\u001b[1;33m.\u001b[0m\u001b[0mint0\u001b[0m\u001b[1;33m(\u001b[0m\u001b[0mbox\u001b[0m\u001b[1;33m)\u001b[0m\u001b[1;33m\u001b[0m\u001b[1;33m\u001b[0m\u001b[0m\n\u001b[0;32m     21\u001b[0m     \u001b[0mcv\u001b[0m\u001b[1;33m.\u001b[0m\u001b[0mdrawContours\u001b[0m\u001b[1;33m(\u001b[0m\u001b[0mim\u001b[0m\u001b[1;33m,\u001b[0m \u001b[1;33m[\u001b[0m\u001b[0mbox\u001b[0m\u001b[1;33m]\u001b[0m\u001b[1;33m,\u001b[0m \u001b[1;33m-\u001b[0m\u001b[1;36m1\u001b[0m\u001b[1;33m,\u001b[0m \u001b[1;33m(\u001b[0m\u001b[1;36m0\u001b[0m\u001b[1;33m,\u001b[0m\u001b[1;36m255\u001b[0m\u001b[1;33m,\u001b[0m\u001b[1;36m0\u001b[0m\u001b[1;33m)\u001b[0m\u001b[1;33m,\u001b[0m \u001b[1;36m3\u001b[0m\u001b[1;33m)\u001b[0m\u001b[1;33m\u001b[0m\u001b[1;33m\u001b[0m\u001b[0m\n",
      "\u001b[1;31merror\u001b[0m: OpenCV(4.6.0) :-1: error: (-5:Bad argument) in function 'boxPoints'\n> Overload resolution failed:\n>  - Can't parse 'box' as RotatedRect. Expected sequence length 3, got 4\n>  - Can't parse 'box' as RotatedRect. Expected sequence length 3, got 4\n"
     ]
    }
   ],
   "source": [
    "#identify_alum('Straight_On.png')\n",
    "identify_alum2('SmallPieceWithFlash.jpeg')"
   ]
  },
  {
   "cell_type": "code",
   "execution_count": null,
   "id": "845007f5",
   "metadata": {},
   "outputs": [],
   "source": []
  }
 ],
 "metadata": {
  "kernelspec": {
   "display_name": "Python 3 (ipykernel)",
   "language": "python",
   "name": "python3"
  },
  "language_info": {
   "codemirror_mode": {
    "name": "ipython",
    "version": 3
   },
   "file_extension": ".py",
   "mimetype": "text/x-python",
   "name": "python",
   "nbconvert_exporter": "python",
   "pygments_lexer": "ipython3",
   "version": "3.9.7"
  }
 },
 "nbformat": 4,
 "nbformat_minor": 5
}
